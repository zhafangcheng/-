{
 "cells": [
  {
   "cell_type": "markdown",
   "id": "b64be75c",
   "metadata": {},
   "source": [
    "## 项目背景：\n",
    "对于任何一家公司来讲，员工队伍的稳定性对于企业的发展都至关重要。之前马老师也说过，员工离职无非两个原因，其一是工资没有给到位，其二是员工干的不爽。所以员工离职预测的价值就愈发的凸显出来了，尤其对于HR部门，较早的预测可以帮助企业未雨绸缪，尽可能降低因为人员变动而给公司带来的损失。"
   ]
  },
  {
   "cell_type": "markdown",
   "id": "176ecdba",
   "metadata": {},
   "source": [
    "### 本项目的目标：\n",
    "\n",
    "读取员工离职数据集\n",
    "初步的探索性分析\n",
    "建立决策树模型\n",
    "建立支持向量机模型\n",
    "模型评估\n",
    "项目总结"
   ]
  },
  {
   "cell_type": "markdown",
   "id": "75135bd3",
   "metadata": {},
   "source": [
    "#### 读取数据"
   ]
  },
  {
   "cell_type": "code",
   "execution_count": 1,
   "id": "e6d423eb",
   "metadata": {},
   "outputs": [],
   "source": [
    "# 导入第三方库\n",
    "import numpy as np\n",
    "import pandas as pd\n",
    "import matplotlib.pyplot as plt\n",
    "import seaborn as sns;sns.set()\n",
    "%matplotlib inline"
   ]
  },
  {
   "cell_type": "code",
   "execution_count": 2,
   "id": "dcf3ce86",
   "metadata": {},
   "outputs": [
    {
     "data": {
      "text/html": [
       "<div>\n",
       "<style scoped>\n",
       "    .dataframe tbody tr th:only-of-type {\n",
       "        vertical-align: middle;\n",
       "    }\n",
       "\n",
       "    .dataframe tbody tr th {\n",
       "        vertical-align: top;\n",
       "    }\n",
       "\n",
       "    .dataframe thead th {\n",
       "        text-align: right;\n",
       "    }\n",
       "</style>\n",
       "<table border=\"1\" class=\"dataframe\">\n",
       "  <thead>\n",
       "    <tr style=\"text-align: right;\">\n",
       "      <th></th>\n",
       "      <th>satisfaction_level</th>\n",
       "      <th>last_evaluation</th>\n",
       "      <th>number_project</th>\n",
       "      <th>average_montly_hours</th>\n",
       "      <th>time_spend_company</th>\n",
       "      <th>Work_accident</th>\n",
       "      <th>left</th>\n",
       "      <th>promotion_last_5years</th>\n",
       "      <th>department</th>\n",
       "      <th>salary</th>\n",
       "    </tr>\n",
       "  </thead>\n",
       "  <tbody>\n",
       "    <tr>\n",
       "      <th>0</th>\n",
       "      <td>0.38</td>\n",
       "      <td>0.53</td>\n",
       "      <td>2</td>\n",
       "      <td>157</td>\n",
       "      <td>3</td>\n",
       "      <td>0</td>\n",
       "      <td>1</td>\n",
       "      <td>0</td>\n",
       "      <td>sales</td>\n",
       "      <td>low</td>\n",
       "    </tr>\n",
       "    <tr>\n",
       "      <th>1</th>\n",
       "      <td>0.80</td>\n",
       "      <td>0.86</td>\n",
       "      <td>5</td>\n",
       "      <td>262</td>\n",
       "      <td>6</td>\n",
       "      <td>0</td>\n",
       "      <td>1</td>\n",
       "      <td>0</td>\n",
       "      <td>sales</td>\n",
       "      <td>medium</td>\n",
       "    </tr>\n",
       "    <tr>\n",
       "      <th>2</th>\n",
       "      <td>0.11</td>\n",
       "      <td>0.88</td>\n",
       "      <td>7</td>\n",
       "      <td>272</td>\n",
       "      <td>4</td>\n",
       "      <td>0</td>\n",
       "      <td>1</td>\n",
       "      <td>0</td>\n",
       "      <td>sales</td>\n",
       "      <td>medium</td>\n",
       "    </tr>\n",
       "    <tr>\n",
       "      <th>3</th>\n",
       "      <td>0.72</td>\n",
       "      <td>0.87</td>\n",
       "      <td>5</td>\n",
       "      <td>223</td>\n",
       "      <td>5</td>\n",
       "      <td>0</td>\n",
       "      <td>1</td>\n",
       "      <td>0</td>\n",
       "      <td>sales</td>\n",
       "      <td>low</td>\n",
       "    </tr>\n",
       "    <tr>\n",
       "      <th>4</th>\n",
       "      <td>0.37</td>\n",
       "      <td>0.52</td>\n",
       "      <td>2</td>\n",
       "      <td>159</td>\n",
       "      <td>3</td>\n",
       "      <td>0</td>\n",
       "      <td>1</td>\n",
       "      <td>0</td>\n",
       "      <td>sales</td>\n",
       "      <td>low</td>\n",
       "    </tr>\n",
       "  </tbody>\n",
       "</table>\n",
       "</div>"
      ],
      "text/plain": [
       "   satisfaction_level  last_evaluation  number_project  average_montly_hours  \\\n",
       "0                0.38             0.53               2                   157   \n",
       "1                0.80             0.86               5                   262   \n",
       "2                0.11             0.88               7                   272   \n",
       "3                0.72             0.87               5                   223   \n",
       "4                0.37             0.52               2                   159   \n",
       "\n",
       "   time_spend_company  Work_accident  left  promotion_last_5years department  \\\n",
       "0                   3              0     1                      0      sales   \n",
       "1                   6              0     1                      0      sales   \n",
       "2                   4              0     1                      0      sales   \n",
       "3                   5              0     1                      0      sales   \n",
       "4                   3              0     1                      0      sales   \n",
       "\n",
       "   salary  \n",
       "0     low  \n",
       "1  medium  \n",
       "2  medium  \n",
       "3     low  \n",
       "4     low  "
      ]
     },
     "execution_count": 2,
     "metadata": {},
     "output_type": "execute_result"
    }
   ],
   "source": [
    "# 读取数据\n",
    "df = pd.read_csv('/Users/fangcheng/sklearn/项目三：员工离职率预测/HR_comma_sep.csv')\n",
    "df.head()"
   ]
  },
  {
   "cell_type": "code",
   "execution_count": 3,
   "id": "793efcbe",
   "metadata": {},
   "outputs": [
    {
     "name": "stdout",
     "output_type": "stream",
     "text": [
      "<class 'pandas.core.frame.DataFrame'>\n",
      "RangeIndex: 14999 entries, 0 to 14998\n",
      "Data columns (total 10 columns):\n",
      " #   Column                 Non-Null Count  Dtype  \n",
      "---  ------                 --------------  -----  \n",
      " 0   satisfaction_level     14999 non-null  float64\n",
      " 1   last_evaluation        14999 non-null  float64\n",
      " 2   number_project         14999 non-null  int64  \n",
      " 3   average_montly_hours   14999 non-null  int64  \n",
      " 4   time_spend_company     14999 non-null  int64  \n",
      " 5   Work_accident          14999 non-null  int64  \n",
      " 6   left                   14999 non-null  int64  \n",
      " 7   promotion_last_5years  14999 non-null  int64  \n",
      " 8   department             14999 non-null  object \n",
      " 9   salary                 14999 non-null  object \n",
      "dtypes: float64(2), int64(6), object(2)\n",
      "memory usage: 1.1+ MB\n"
     ]
    }
   ],
   "source": [
    "# 查看数据集的基本信息\n",
    "df.info()"
   ]
  },
  {
   "cell_type": "code",
   "execution_count": 7,
   "id": "9fa85301",
   "metadata": {},
   "outputs": [
    {
     "data": {
      "text/html": [
       "<div>\n",
       "<style scoped>\n",
       "    .dataframe tbody tr th:only-of-type {\n",
       "        vertical-align: middle;\n",
       "    }\n",
       "\n",
       "    .dataframe tbody tr th {\n",
       "        vertical-align: top;\n",
       "    }\n",
       "\n",
       "    .dataframe thead th {\n",
       "        text-align: right;\n",
       "    }\n",
       "</style>\n",
       "<table border=\"1\" class=\"dataframe\">\n",
       "  <thead>\n",
       "    <tr style=\"text-align: right;\">\n",
       "      <th></th>\n",
       "      <th>count</th>\n",
       "      <th>mean</th>\n",
       "      <th>std</th>\n",
       "      <th>min</th>\n",
       "      <th>25%</th>\n",
       "      <th>50%</th>\n",
       "      <th>75%</th>\n",
       "      <th>max</th>\n",
       "    </tr>\n",
       "  </thead>\n",
       "  <tbody>\n",
       "    <tr>\n",
       "      <th>satisfaction_level</th>\n",
       "      <td>14999.0</td>\n",
       "      <td>0.612834</td>\n",
       "      <td>0.248631</td>\n",
       "      <td>0.09</td>\n",
       "      <td>0.44</td>\n",
       "      <td>0.64</td>\n",
       "      <td>0.82</td>\n",
       "      <td>1.0</td>\n",
       "    </tr>\n",
       "    <tr>\n",
       "      <th>last_evaluation</th>\n",
       "      <td>14999.0</td>\n",
       "      <td>0.716102</td>\n",
       "      <td>0.171169</td>\n",
       "      <td>0.36</td>\n",
       "      <td>0.56</td>\n",
       "      <td>0.72</td>\n",
       "      <td>0.87</td>\n",
       "      <td>1.0</td>\n",
       "    </tr>\n",
       "    <tr>\n",
       "      <th>number_project</th>\n",
       "      <td>14999.0</td>\n",
       "      <td>3.803054</td>\n",
       "      <td>1.232592</td>\n",
       "      <td>2.00</td>\n",
       "      <td>3.00</td>\n",
       "      <td>4.00</td>\n",
       "      <td>5.00</td>\n",
       "      <td>7.0</td>\n",
       "    </tr>\n",
       "    <tr>\n",
       "      <th>average_montly_hours</th>\n",
       "      <td>14999.0</td>\n",
       "      <td>201.050337</td>\n",
       "      <td>49.943099</td>\n",
       "      <td>96.00</td>\n",
       "      <td>156.00</td>\n",
       "      <td>200.00</td>\n",
       "      <td>245.00</td>\n",
       "      <td>310.0</td>\n",
       "    </tr>\n",
       "    <tr>\n",
       "      <th>time_spend_company</th>\n",
       "      <td>14999.0</td>\n",
       "      <td>3.498233</td>\n",
       "      <td>1.460136</td>\n",
       "      <td>2.00</td>\n",
       "      <td>3.00</td>\n",
       "      <td>3.00</td>\n",
       "      <td>4.00</td>\n",
       "      <td>10.0</td>\n",
       "    </tr>\n",
       "    <tr>\n",
       "      <th>Work_accident</th>\n",
       "      <td>14999.0</td>\n",
       "      <td>0.144610</td>\n",
       "      <td>0.351719</td>\n",
       "      <td>0.00</td>\n",
       "      <td>0.00</td>\n",
       "      <td>0.00</td>\n",
       "      <td>0.00</td>\n",
       "      <td>1.0</td>\n",
       "    </tr>\n",
       "    <tr>\n",
       "      <th>left</th>\n",
       "      <td>14999.0</td>\n",
       "      <td>0.238083</td>\n",
       "      <td>0.425924</td>\n",
       "      <td>0.00</td>\n",
       "      <td>0.00</td>\n",
       "      <td>0.00</td>\n",
       "      <td>0.00</td>\n",
       "      <td>1.0</td>\n",
       "    </tr>\n",
       "    <tr>\n",
       "      <th>promotion_last_5years</th>\n",
       "      <td>14999.0</td>\n",
       "      <td>0.021268</td>\n",
       "      <td>0.144281</td>\n",
       "      <td>0.00</td>\n",
       "      <td>0.00</td>\n",
       "      <td>0.00</td>\n",
       "      <td>0.00</td>\n",
       "      <td>1.0</td>\n",
       "    </tr>\n",
       "  </tbody>\n",
       "</table>\n",
       "</div>"
      ],
      "text/plain": [
       "                         count        mean        std    min     25%     50%  \\\n",
       "satisfaction_level     14999.0    0.612834   0.248631   0.09    0.44    0.64   \n",
       "last_evaluation        14999.0    0.716102   0.171169   0.36    0.56    0.72   \n",
       "number_project         14999.0    3.803054   1.232592   2.00    3.00    4.00   \n",
       "average_montly_hours   14999.0  201.050337  49.943099  96.00  156.00  200.00   \n",
       "time_spend_company     14999.0    3.498233   1.460136   2.00    3.00    3.00   \n",
       "Work_accident          14999.0    0.144610   0.351719   0.00    0.00    0.00   \n",
       "left                   14999.0    0.238083   0.425924   0.00    0.00    0.00   \n",
       "promotion_last_5years  14999.0    0.021268   0.144281   0.00    0.00    0.00   \n",
       "\n",
       "                          75%    max  \n",
       "satisfaction_level       0.82    1.0  \n",
       "last_evaluation          0.87    1.0  \n",
       "number_project           5.00    7.0  \n",
       "average_montly_hours   245.00  310.0  \n",
       "time_spend_company       4.00   10.0  \n",
       "Work_accident            0.00    1.0  \n",
       "left                     0.00    1.0  \n",
       "promotion_last_5years    0.00    1.0  "
      ]
     },
     "execution_count": 7,
     "metadata": {},
     "output_type": "execute_result"
    }
   ],
   "source": [
    "# 查看数据集的统计结果\n",
    "df.describe().T"
   ]
  },
  {
   "cell_type": "markdown",
   "id": "8d8ae3a4",
   "metadata": {},
   "source": [
    "平均工作满意度在61%左右\n",
    "平均绩效在72%左右\n",
    "平均参与项目的数量为3.8\n",
    "平均每月工作时间为201小时\n",
    "该公司员工平均工作年限为3.5年\n",
    "2%的员工在过去5年内得到岗位上的晋升\n",
    "该公司的离职率为24%"
   ]
  },
  {
   "cell_type": "code",
   "execution_count": 8,
   "id": "a5a56509",
   "metadata": {},
   "outputs": [
    {
     "data": {
      "text/plain": [
       "(14999, 10)"
      ]
     },
     "execution_count": 8,
     "metadata": {},
     "output_type": "execute_result"
    }
   ],
   "source": [
    "#查看数据集的大小\n",
    "df.shape"
   ]
  },
  {
   "cell_type": "code",
   "execution_count": 9,
   "id": "3223ae6b",
   "metadata": {},
   "outputs": [
    {
     "data": {
      "text/plain": [
       "Index(['satisfaction_level', 'last_evaluation', 'number_project',\n",
       "       'average_montly_hours', 'time_spend_company', 'Work_accident', 'left',\n",
       "       'promotion_last_5years', 'department', 'salary'],\n",
       "      dtype='object')"
      ]
     },
     "execution_count": 9,
     "metadata": {},
     "output_type": "execute_result"
    }
   ],
   "source": [
    "df.columns"
   ]
  },
  {
   "cell_type": "markdown",
   "id": "2deebe0e",
   "metadata": {},
   "source": [
    "#### 初步探索性分析"
   ]
  },
  {
   "cell_type": "code",
   "execution_count": 11,
   "id": "09bc5a84",
   "metadata": {},
   "outputs": [
    {
     "data": {
      "text/plain": [
       "<Axes: xlabel='left', ylabel='time_spend_company'>"
      ]
     },
     "execution_count": 11,
     "metadata": {},
     "output_type": "execute_result"
    },
    {
     "data": {
      "image/png": "[encoded data removed]",
      "text/plain": [
       "<Figure size 1200x1200 with 4 Axes>"
      ]
     },
     "metadata": {},
     "output_type": "display_data"
    }
   ],
   "source": [
    "# 绘制箱形图，观察不同特征与离职之间的关系\n",
    "plt.figure(figsize=(12,12))\n",
    "plt.subplot(2,2,1)\n",
    "sns.boxplot(x='left',y='satisfaction_level',data=df)\n",
    "\n",
    "plt.subplot(2,2,2)\n",
    "sns.boxplot(x='left',y='last_evaluation',data=df)\n",
    "\n",
    "plt.subplot(2,2,3)\n",
    "sns.boxplot(x='left',y='average_montly_hours',data=df)\n",
    "\n",
    "plt.subplot(2,2,4)\n",
    "sns.boxplot(x='left',y='time_spend_company',data=df)"
   ]
  },
  {
   "cell_type": "markdown",
   "id": "2436f91d",
   "metadata": {},
   "source": [
    "离职员工的工作满意度在40%左右，未离职员工的工作满意度在70%左右。\n",
    "离职员工的绩效评估较高，在0.8左右。\n",
    "离职员工的工作时长较长，在225小时左右。\n",
    "离职员工的工作年限在4年左右。"
   ]
  },
  {
   "cell_type": "code",
   "execution_count": 13,
   "id": "7689893a",
   "metadata": {},
   "outputs": [
    {
     "data": {
      "text/plain": [
       "<Axes: xlabel='number_project', ylabel='count'>"
      ]
     },
     "execution_count": 13,
     "metadata": {},
     "output_type": "execute_result"
    },
    {
     "data": {
      "image/png": "[encoded data removed]",
      "text/plain": [
       "<Figure size 640x480 with 1 Axes>"
      ]
     },
     "metadata": {},
     "output_type": "display_data"
    }
   ],
   "source": [
    "# 观察离职与参与项目的数量关系\n",
    "sns.countplot(x='number_project',hue='left',data = df)"
   ]
  },
  {
   "cell_type": "markdown",
   "id": "6d4f1262",
   "metadata": {},
   "source": [
    "#### 建立决策树模型"
   ]
  },
  {
   "cell_type": "code",
   "execution_count": 14,
   "id": "3290aac3",
   "metadata": {},
   "outputs": [
    {
     "data": {
      "text/plain": [
       "satisfaction_level       float64\n",
       "last_evaluation          float64\n",
       "number_project             int64\n",
       "average_montly_hours       int64\n",
       "time_spend_company         int64\n",
       "Work_accident              int64\n",
       "left                       int64\n",
       "promotion_last_5years      int64\n",
       "department                object\n",
       "salary                    object\n",
       "dtype: object"
      ]
     },
     "execution_count": 14,
     "metadata": {},
     "output_type": "execute_result"
    }
   ],
   "source": [
    "# 查看字段类型\n",
    "df.dtypes"
   ]
  },
  {
   "cell_type": "code",
   "execution_count": 15,
   "id": "c100dd12",
   "metadata": {},
   "outputs": [
    {
     "data": {
      "text/plain": [
       "array(['low', 'medium', 'high'], dtype=object)"
      ]
     },
     "execution_count": 15,
     "metadata": {},
     "output_type": "execute_result"
    }
   ],
   "source": [
    "# 对类别变量进行处理\n",
    "df['salary'].unique()"
   ]
  },
  {
   "cell_type": "code",
   "execution_count": 17,
   "id": "6fd5b642",
   "metadata": {},
   "outputs": [
    {
     "data": {
      "text/plain": [
       "array(['sales', 'accounting', 'hr', 'technical', 'support', 'management',\n",
       "       'IT', 'product_mng', 'marketing', 'RandD'], dtype=object)"
      ]
     },
     "execution_count": 17,
     "metadata": {},
     "output_type": "execute_result"
    }
   ],
   "source": [
    "df['department'].unique()"
   ]
  },
  {
   "cell_type": "code",
   "execution_count": 18,
   "id": "d5e74091",
   "metadata": {},
   "outputs": [
    {
     "data": {
      "text/html": [
       "<div>\n",
       "<style scoped>\n",
       "    .dataframe tbody tr th:only-of-type {\n",
       "        vertical-align: middle;\n",
       "    }\n",
       "\n",
       "    .dataframe tbody tr th {\n",
       "        vertical-align: top;\n",
       "    }\n",
       "\n",
       "    .dataframe thead th {\n",
       "        text-align: right;\n",
       "    }\n",
       "</style>\n",
       "<table border=\"1\" class=\"dataframe\">\n",
       "  <thead>\n",
       "    <tr style=\"text-align: right;\">\n",
       "      <th></th>\n",
       "      <th>satisfaction_level</th>\n",
       "      <th>last_evaluation</th>\n",
       "      <th>number_project</th>\n",
       "      <th>average_montly_hours</th>\n",
       "      <th>time_spend_company</th>\n",
       "      <th>Work_accident</th>\n",
       "      <th>left</th>\n",
       "      <th>promotion_last_5years</th>\n",
       "      <th>department</th>\n",
       "      <th>salary</th>\n",
       "    </tr>\n",
       "  </thead>\n",
       "  <tbody>\n",
       "    <tr>\n",
       "      <th>0</th>\n",
       "      <td>0.38</td>\n",
       "      <td>0.53</td>\n",
       "      <td>2</td>\n",
       "      <td>157</td>\n",
       "      <td>3</td>\n",
       "      <td>0</td>\n",
       "      <td>1</td>\n",
       "      <td>0</td>\n",
       "      <td>0</td>\n",
       "      <td>0</td>\n",
       "    </tr>\n",
       "    <tr>\n",
       "      <th>1</th>\n",
       "      <td>0.80</td>\n",
       "      <td>0.86</td>\n",
       "      <td>5</td>\n",
       "      <td>262</td>\n",
       "      <td>6</td>\n",
       "      <td>0</td>\n",
       "      <td>1</td>\n",
       "      <td>0</td>\n",
       "      <td>0</td>\n",
       "      <td>1</td>\n",
       "    </tr>\n",
       "    <tr>\n",
       "      <th>2</th>\n",
       "      <td>0.11</td>\n",
       "      <td>0.88</td>\n",
       "      <td>7</td>\n",
       "      <td>272</td>\n",
       "      <td>4</td>\n",
       "      <td>0</td>\n",
       "      <td>1</td>\n",
       "      <td>0</td>\n",
       "      <td>0</td>\n",
       "      <td>1</td>\n",
       "    </tr>\n",
       "    <tr>\n",
       "      <th>3</th>\n",
       "      <td>0.72</td>\n",
       "      <td>0.87</td>\n",
       "      <td>5</td>\n",
       "      <td>223</td>\n",
       "      <td>5</td>\n",
       "      <td>0</td>\n",
       "      <td>1</td>\n",
       "      <td>0</td>\n",
       "      <td>0</td>\n",
       "      <td>0</td>\n",
       "    </tr>\n",
       "    <tr>\n",
       "      <th>4</th>\n",
       "      <td>0.37</td>\n",
       "      <td>0.52</td>\n",
       "      <td>2</td>\n",
       "      <td>159</td>\n",
       "      <td>3</td>\n",
       "      <td>0</td>\n",
       "      <td>1</td>\n",
       "      <td>0</td>\n",
       "      <td>0</td>\n",
       "      <td>0</td>\n",
       "    </tr>\n",
       "  </tbody>\n",
       "</table>\n",
       "</div>"
      ],
      "text/plain": [
       "   satisfaction_level  last_evaluation  number_project  average_montly_hours  \\\n",
       "0                0.38             0.53               2                   157   \n",
       "1                0.80             0.86               5                   262   \n",
       "2                0.11             0.88               7                   272   \n",
       "3                0.72             0.87               5                   223   \n",
       "4                0.37             0.52               2                   159   \n",
       "\n",
       "   time_spend_company  Work_accident  left  promotion_last_5years  department  \\\n",
       "0                   3              0     1                      0           0   \n",
       "1                   6              0     1                      0           0   \n",
       "2                   4              0     1                      0           0   \n",
       "3                   5              0     1                      0           0   \n",
       "4                   3              0     1                      0           0   \n",
       "\n",
       "   salary  \n",
       "0       0  \n",
       "1       1  \n",
       "2       1  \n",
       "3       0  \n",
       "4       0  "
      ]
     },
     "execution_count": 18,
     "metadata": {},
     "output_type": "execute_result"
    }
   ],
   "source": [
    "# 将类别数据转换成数值数据并替换原有的数据\n",
    "department_map = {'sales':0, 'accounting':1, 'hr':2, 'technical':3, 'support':4, 'management':5,\n",
    "       'IT':6, 'product_mng':7, 'marketing':8, 'RandD':9}\n",
    "salary_map = {'low':0, 'medium':1, 'high':2}\n",
    "\n",
    "df['department'] = df['department'].map(department_map)\n",
    "df['salary'] = df['salary'].map(salary_map)\n",
    "df.head()"
   ]
  },
  {
   "cell_type": "markdown",
   "id": "2bea5b9d",
   "metadata": {},
   "source": [
    "对类别型变量最常用的处理方式是one_hot_encoding编码方式。上面我采用的是映射的方式，将每一个类别值都映射为一个单独的数字编码。但是这种做法也存在一个问题，将类别特征映射为1,2,3等数值，计算机会认为它们之间存在着相对的大小关系。所以推荐大家使用one_hot_encoding编码。"
   ]
  },
  {
   "cell_type": "code",
   "execution_count": 20,
   "id": "0e0b6426",
   "metadata": {},
   "outputs": [
    {
     "data": {
      "text/html": [
       "<div>\n",
       "<style scoped>\n",
       "    .dataframe tbody tr th:only-of-type {\n",
       "        vertical-align: middle;\n",
       "    }\n",
       "\n",
       "    .dataframe tbody tr th {\n",
       "        vertical-align: top;\n",
       "    }\n",
       "\n",
       "    .dataframe thead th {\n",
       "        text-align: right;\n",
       "    }\n",
       "</style>\n",
       "<table border=\"1\" class=\"dataframe\">\n",
       "  <thead>\n",
       "    <tr style=\"text-align: right;\">\n",
       "      <th></th>\n",
       "      <th>satisfaction_level</th>\n",
       "      <th>last_evaluation</th>\n",
       "      <th>number_project</th>\n",
       "      <th>average_montly_hours</th>\n",
       "      <th>time_spend_company</th>\n",
       "      <th>Work_accident</th>\n",
       "      <th>left</th>\n",
       "      <th>promotion_last_5years</th>\n",
       "      <th>department</th>\n",
       "      <th>salary</th>\n",
       "    </tr>\n",
       "  </thead>\n",
       "  <tbody>\n",
       "    <tr>\n",
       "      <th>0</th>\n",
       "      <td>0.38</td>\n",
       "      <td>0.53</td>\n",
       "      <td>2</td>\n",
       "      <td>157</td>\n",
       "      <td>3</td>\n",
       "      <td>0</td>\n",
       "      <td>1</td>\n",
       "      <td>0</td>\n",
       "      <td>0</td>\n",
       "      <td>0</td>\n",
       "    </tr>\n",
       "    <tr>\n",
       "      <th>1</th>\n",
       "      <td>0.80</td>\n",
       "      <td>0.86</td>\n",
       "      <td>5</td>\n",
       "      <td>262</td>\n",
       "      <td>6</td>\n",
       "      <td>0</td>\n",
       "      <td>1</td>\n",
       "      <td>0</td>\n",
       "      <td>0</td>\n",
       "      <td>1</td>\n",
       "    </tr>\n",
       "    <tr>\n",
       "      <th>2</th>\n",
       "      <td>0.11</td>\n",
       "      <td>0.88</td>\n",
       "      <td>7</td>\n",
       "      <td>272</td>\n",
       "      <td>4</td>\n",
       "      <td>0</td>\n",
       "      <td>1</td>\n",
       "      <td>0</td>\n",
       "      <td>0</td>\n",
       "      <td>1</td>\n",
       "    </tr>\n",
       "    <tr>\n",
       "      <th>3</th>\n",
       "      <td>0.72</td>\n",
       "      <td>0.87</td>\n",
       "      <td>5</td>\n",
       "      <td>223</td>\n",
       "      <td>5</td>\n",
       "      <td>0</td>\n",
       "      <td>1</td>\n",
       "      <td>0</td>\n",
       "      <td>0</td>\n",
       "      <td>0</td>\n",
       "    </tr>\n",
       "    <tr>\n",
       "      <th>4</th>\n",
       "      <td>0.37</td>\n",
       "      <td>0.52</td>\n",
       "      <td>2</td>\n",
       "      <td>159</td>\n",
       "      <td>3</td>\n",
       "      <td>0</td>\n",
       "      <td>1</td>\n",
       "      <td>0</td>\n",
       "      <td>0</td>\n",
       "      <td>0</td>\n",
       "    </tr>\n",
       "  </tbody>\n",
       "</table>\n",
       "</div>"
      ],
      "text/plain": [
       "   satisfaction_level  last_evaluation  number_project  average_montly_hours  \\\n",
       "0                0.38             0.53               2                   157   \n",
       "1                0.80             0.86               5                   262   \n",
       "2                0.11             0.88               7                   272   \n",
       "3                0.72             0.87               5                   223   \n",
       "4                0.37             0.52               2                   159   \n",
       "\n",
       "   time_spend_company  Work_accident  left  promotion_last_5years  department  \\\n",
       "0                   3              0     1                      0           0   \n",
       "1                   6              0     1                      0           0   \n",
       "2                   4              0     1                      0           0   \n",
       "3                   5              0     1                      0           0   \n",
       "4                   3              0     1                      0           0   \n",
       "\n",
       "   salary  \n",
       "0       0  \n",
       "1       1  \n",
       "2       1  \n",
       "3       0  \n",
       "4       0  "
      ]
     },
     "execution_count": 20,
     "metadata": {},
     "output_type": "execute_result"
    }
   ],
   "source": [
    "# 热独编码\n",
    "df1 = df\n",
    "df1 = pd.get_dummies(df1)\n",
    "df1.head()"
   ]
  },
  {
   "cell_type": "code",
   "execution_count": 21,
   "id": "c8729f6d",
   "metadata": {},
   "outputs": [],
   "source": [
    "# 切分训练集、测试集\n",
    "label = df['left']\n",
    "train = df.drop('left',axis = 1)\n",
    "from sklearn.model_selection import train_test_split\n",
    "X_train,X_test,y_train,y_test = train_test_split(train,label,test_size = 0.3,random_state = 0)"
   ]
  },
  {
   "cell_type": "code",
   "execution_count": 22,
   "id": "dc1a359a",
   "metadata": {},
   "outputs": [
    {
     "data": {
      "text/plain": [
       "0.9797777777777777"
      ]
     },
     "execution_count": 22,
     "metadata": {},
     "output_type": "execute_result"
    }
   ],
   "source": [
    "# 导入决策树模型\n",
    "from sklearn.tree import DecisionTreeClassifier\n",
    "tree = DecisionTreeClassifier()\n",
    "tree.fit(X_train,y_train)\n",
    "tree.score(X_test,y_test)"
   ]
  },
  {
   "cell_type": "code",
   "execution_count": 23,
   "id": "ca9b46ff",
   "metadata": {},
   "outputs": [],
   "source": [
    "# 测试集的预测结果\n",
    "y_pred = tree.predict(X_test)"
   ]
  },
  {
   "cell_type": "code",
   "execution_count": 24,
   "id": "696ee700",
   "metadata": {},
   "outputs": [
    {
     "data": {
      "text/plain": [
       "array([[3402,   60],\n",
       "       [  31, 1007]])"
      ]
     },
     "execution_count": 24,
     "metadata": {},
     "output_type": "execute_result"
    }
   ],
   "source": [
    "# 打出混淆矩阵值\n",
    "from sklearn.metrics import confusion_matrix\n",
    "confusion_matrix(y_test,y_pred,labels=[0,1])"
   ]
  },
  {
   "cell_type": "code",
   "execution_count": 25,
   "id": "29f6c46a",
   "metadata": {},
   "outputs": [
    {
     "data": {
      "text/plain": [
       "0    11428\n",
       "1     3571\n",
       "Name: left, dtype: int64"
      ]
     },
     "execution_count": 25,
     "metadata": {},
     "output_type": "execute_result"
    }
   ],
   "source": [
    "df['left'].value_counts()"
   ]
  },
  {
   "cell_type": "code",
   "execution_count": 27,
   "id": "98678bd2",
   "metadata": {},
   "outputs": [
    {
     "name": "stdout",
     "output_type": "stream",
     "text": [
      "0.9797777777777777 0.9701348747591522 0.943767572633552\n"
     ]
    }
   ],
   "source": [
    "#检查模型的各项评估指标\n",
    "accuracy = (3402+1007)/(3402 + 60 + 31 +1007)\n",
    "precision = 1007/(1007+31)\n",
    "recall = 1007/(1007+60)\n",
    "print(accuracy,precision,recall)"
   ]
  },
  {
   "cell_type": "markdown",
   "id": "eb6f13d7",
   "metadata": {},
   "source": [
    "从三种评估指标可以看出，该树模型的效果还可以。\n",
    "直接使用classification_report方法更加的方便，可以直接打印出recall,precision,f1-score值等。"
   ]
  },
  {
   "cell_type": "markdown",
   "id": "139fd7be",
   "metadata": {},
   "source": [
    "#### 支持向量机SVM算法预测"
   ]
  },
  {
   "cell_type": "code",
   "execution_count": 32,
   "id": "adc30ebe",
   "metadata": {},
   "outputs": [
    {
     "data": {
      "text/plain": [
       "array([[3462,    0],\n",
       "       [ 944,   94]])"
      ]
     },
     "execution_count": 32,
     "metadata": {},
     "output_type": "execute_result"
    }
   ],
   "source": [
    "from sklearn.svm import SVC\n",
    "clf = SVC()\n",
    "clf.fit(X_train,y_train)\n",
    "y_pred = clf.predict(X_test)\n",
    "confusion_matrix(y_test,y_pred,labels=[0,1])"
   ]
  },
  {
   "cell_type": "code",
   "execution_count": 33,
   "id": "b21025cc",
   "metadata": {},
   "outputs": [
    {
     "name": "stdout",
     "output_type": "stream",
     "text": [
      "0.7902222222222223 0.0905587668593449 1.0\n"
     ]
    }
   ],
   "source": [
    "svc_accuracy = (3462 + 94)/(3462 + 94 +0 + 944)\n",
    "svc_recall = 94/(94+944)\n",
    "svc_precision = 94/(94+0)\n",
    "\n",
    "print(svc_accuracy,svc_recall,svc_precision)"
   ]
  },
  {
   "cell_type": "markdown",
   "id": "6f301ae5",
   "metadata": {},
   "source": [
    "在SVC算法中，使用算法默认的参数，其recall值和精度都较低。将未离职的人预测为离职的有0人，将离职的预测为未离职的人有944人。"
   ]
  },
  {
   "cell_type": "code",
   "execution_count": 35,
   "id": "7043709d",
   "metadata": {},
   "outputs": [
    {
     "name": "stdout",
     "output_type": "stream",
     "text": [
      "Fitting 3 folds for each of 25 candidates, totalling 75 fits\n",
      "The train time usage:18.56\n"
     ]
    }
   ],
   "source": [
    "# 使用Gridsearch函数，对模型进行参数调优\n",
    "import time\n",
    "from sklearn.model_selection import GridSearchCV\n",
    "\n",
    "clf = SVC()\n",
    "param_grid = {'C':[0.01,0.1,1,10,100],'gamma':[0.001,0.01,0.1,1,10] }\n",
    "grid = GridSearchCV(clf,param_grid = param_grid,cv = 3,n_jobs = -1,verbose = 2)\n",
    "t1 = time.time()\n",
    "grid.fit(X_train,y_train)\n",
    "t2 = time.time()\n",
    "print('The train time usage:{}'.format(round((t2-t1),3)))"
   ]
  },
  {
   "cell_type": "code",
   "execution_count": 36,
   "id": "31a4e483",
   "metadata": {},
   "outputs": [
    {
     "name": "stdout",
     "output_type": "stream",
     "text": [
      "0.9584724070822955\n",
      "{'C': 100, 'gamma': 0.01}\n"
     ]
    }
   ],
   "source": [
    "print(grid.best_score_)\n",
    "print(grid.best_params_)"
   ]
  },
  {
   "cell_type": "code",
   "execution_count": 37,
   "id": "931f4d7a",
   "metadata": {},
   "outputs": [],
   "source": [
    "#采用最优的参数再次构建SVC模型\n",
    "\n",
    "svc = SVC(C = 100,gamma = 0.01)\n",
    "svc.fit(X_train,y_train)\n",
    "y_pred = svc.predict(X_test)"
   ]
  },
  {
   "cell_type": "code",
   "execution_count": 38,
   "id": "ed48d753",
   "metadata": {},
   "outputs": [
    {
     "data": {
      "text/plain": [
       "array([[3374,   88],\n",
       "       [  82,  956]])"
      ]
     },
     "execution_count": 38,
     "metadata": {},
     "output_type": "execute_result"
    }
   ],
   "source": [
    "confusion_matrix(y_test,y_pred,labels = [0,1])"
   ]
  },
  {
   "cell_type": "code",
   "execution_count": 39,
   "id": "cca9bc24",
   "metadata": {},
   "outputs": [
    {
     "name": "stdout",
     "output_type": "stream",
     "text": [
      "0.9622222222222222 0.9210019267822736 0.9377394636015326\n"
     ]
    }
   ],
   "source": [
    "accuracy = (3374+956)/(3374 + 88 + 82 + 956)\n",
    "recall = 956/(956+82)\n",
    "precision = 979/(956+88)\n",
    "print(accuracy,recall,precision)"
   ]
  },
  {
   "cell_type": "markdown",
   "id": "5db239da",
   "metadata": {},
   "source": [
    "通过参数调整，SVC模型的预测准确度较原始模型有了较大的提升。"
   ]
  },
  {
   "cell_type": "code",
   "execution_count": 40,
   "id": "f80241d6",
   "metadata": {},
   "outputs": [
    {
     "data": {
      "text/html": [
       "<div>\n",
       "<style scoped>\n",
       "    .dataframe tbody tr th:only-of-type {\n",
       "        vertical-align: middle;\n",
       "    }\n",
       "\n",
       "    .dataframe tbody tr th {\n",
       "        vertical-align: top;\n",
       "    }\n",
       "\n",
       "    .dataframe thead th {\n",
       "        text-align: right;\n",
       "    }\n",
       "</style>\n",
       "<table border=\"1\" class=\"dataframe\">\n",
       "  <thead>\n",
       "    <tr style=\"text-align: right;\">\n",
       "      <th></th>\n",
       "      <th>Decisiontree</th>\n",
       "      <th>SVC</th>\n",
       "    </tr>\n",
       "  </thead>\n",
       "  <tbody>\n",
       "    <tr>\n",
       "      <th>accuracy</th>\n",
       "      <td>0.9786</td>\n",
       "      <td>0.9622</td>\n",
       "    </tr>\n",
       "    <tr>\n",
       "      <th>recall</th>\n",
       "      <td>0.9730</td>\n",
       "      <td>0.9210</td>\n",
       "    </tr>\n",
       "    <tr>\n",
       "      <th>precision</th>\n",
       "      <td>0.9369</td>\n",
       "      <td>0.9377</td>\n",
       "    </tr>\n",
       "  </tbody>\n",
       "</table>\n",
       "</div>"
      ],
      "text/plain": [
       "           Decisiontree     SVC\n",
       "accuracy         0.9786  0.9622\n",
       "recall           0.9730  0.9210\n",
       "precision        0.9369  0.9377"
      ]
     },
     "execution_count": 40,
     "metadata": {},
     "output_type": "execute_result"
    },
    {
     "name": "stdout",
     "output_type": "stream",
     "text": [
      "[CV] END .................................C=0.01, gamma=0.01; total time=   1.2s\n",
      "[CV] END ....................................C=0.01, gamma=1; total time=   2.6s\n",
      "[CV] END ...................................C=0.1, gamma=0.1; total time=   1.6s\n",
      "[CV] END ....................................C=0.1, gamma=10; total time=   2.4s\n",
      "[CV] END ......................................C=1, gamma=10; total time=   2.6s\n",
      "[CV] END ....................................C=10, gamma=0.1; total time=   0.9s\n",
      "[CV] END .................................C=100, gamma=0.001; total time=   0.7s\n",
      "[CV] END .................................C=100, gamma=0.001; total time=   0.7s\n",
      "[CV] END ..................................C=100, gamma=0.01; total time=   0.8s\n",
      "[CV] END ...................................C=100, gamma=0.1; total time=   0.8s\n",
      "[CV] END .................................C=0.01, gamma=0.01; total time=   1.3s\n",
      "[CV] END ...................................C=0.01, gamma=10; total time=   2.2s\n",
      "[CV] END ..................................C=0.1, gamma=0.01; total time=   1.2s\n",
      "[CV] END ....................................C=0.1, gamma=10; total time=   2.5s\n",
      "[CV] END .....................................C=1, gamma=0.1; total time=   1.2s\n",
      "[CV] END ......................................C=1, gamma=10; total time=   2.6s\n",
      "[CV] END .....................................C=10, gamma=10; total time=   2.6s\n",
      "[CV] END ...................................C=100, gamma=0.1; total time=   0.8s\n",
      "[CV] END ................................C=0.01, gamma=0.001; total time=   1.2s\n",
      "[CV] END ...................................C=0.01, gamma=10; total time=   2.2s\n",
      "[CV] END ..................................C=0.1, gamma=0.01; total time=   1.1s\n",
      "[CV] END .....................................C=0.1, gamma=1; total time=   2.9s\n",
      "[CV] END .....................................C=1, gamma=0.1; total time=   1.1s\n",
      "[CV] END ..................................C=10, gamma=0.001; total time=   0.8s\n",
      "[CV] END ...................................C=10, gamma=0.01; total time=   0.7s\n",
      "[CV] END ...................................C=10, gamma=0.01; total time=   0.6s\n",
      "[CV] END ......................................C=10, gamma=1; total time=   3.1s\n",
      "[CV] END ....................................C=100, gamma=10; total time=   2.2s\n",
      "[CV] END ..................................C=0.01, gamma=0.1; total time=   1.6s\n",
      "[CV] END .................................C=0.1, gamma=0.001; total time=   1.1s\n",
      "[CV] END .................................C=0.1, gamma=0.001; total time=   1.1s\n",
      "[CV] END .....................................C=0.1, gamma=1; total time=   2.8s\n",
      "[CV] END ....................................C=1, gamma=0.01; total time=   0.9s\n",
      "[CV] END ......................................C=1, gamma=10; total time=   2.6s\n",
      "[CV] END ....................................C=10, gamma=0.1; total time=   0.9s\n",
      "[CV] END .....................................C=10, gamma=10; total time=   2.7s\n",
      "[CV] END ....................................C=100, gamma=10; total time=   2.2s\n",
      "[CV] END .................................C=0.01, gamma=0.01; total time=   1.2s\n",
      "[CV] END ..................................C=0.01, gamma=0.1; total time=   1.6s\n",
      "[CV] END .................................C=0.1, gamma=0.001; total time=   1.2s\n",
      "[CV] END .....................................C=0.1, gamma=1; total time=   2.8s\n",
      "[CV] END ....................................C=1, gamma=0.01; total time=   0.8s\n",
      "[CV] END .......................................C=1, gamma=1; total time=   3.1s\n",
      "[CV] END ......................................C=10, gamma=1; total time=   3.0s\n",
      "[CV] END .....................................C=100, gamma=1; total time=   2.5s\n",
      "[CV] END ................................C=0.01, gamma=0.001; total time=   1.2s\n",
      "[CV] END ....................................C=0.01, gamma=1; total time=   2.6s\n",
      "[CV] END ...................................C=0.1, gamma=0.1; total time=   1.7s\n",
      "[CV] END ...................................C=1, gamma=0.001; total time=   1.0s\n",
      "[CV] END ...................................C=1, gamma=0.001; total time=   1.0s\n",
      "[CV] END .......................................C=1, gamma=1; total time=   3.1s\n",
      "[CV] END ......................................C=10, gamma=1; total time=   3.0s\n",
      "[CV] END .....................................C=100, gamma=1; total time=   2.6s\n",
      "[CV] END ..................................C=0.01, gamma=0.1; total time=   1.6s\n",
      "[CV] END ...................................C=0.01, gamma=10; total time=   2.3s\n",
      "[CV] END ...................................C=0.1, gamma=0.1; total time=   1.7s\n",
      "[CV] END ...................................C=1, gamma=0.001; total time=   1.0s\n",
      "[CV] END ....................................C=1, gamma=0.01; total time=   0.9s\n",
      "[CV] END .......................................C=1, gamma=1; total time=   3.1s\n",
      "[CV] END ....................................C=10, gamma=0.1; total time=   0.8s\n",
      "[CV] END .................................C=100, gamma=0.001; total time=   0.7s\n",
      "[CV] END ..................................C=100, gamma=0.01; total time=   0.8s\n",
      "[CV] END ..................................C=100, gamma=0.01; total time=   0.9s\n",
      "[CV] END .....................................C=100, gamma=1; total time=   2.5s\n",
      "[CV] END ................................C=0.01, gamma=0.001; total time=   1.3s\n",
      "[CV] END ....................................C=0.01, gamma=1; total time=   2.5s\n",
      "[CV] END ..................................C=0.1, gamma=0.01; total time=   1.2s\n",
      "[CV] END ....................................C=0.1, gamma=10; total time=   2.3s\n",
      "[CV] END .....................................C=1, gamma=0.1; total time=   1.1s\n",
      "[CV] END ..................................C=10, gamma=0.001; total time=   0.8s\n",
      "[CV] END ..................................C=10, gamma=0.001; total time=   0.9s\n",
      "[CV] END ...................................C=10, gamma=0.01; total time=   0.6s\n",
      "[CV] END .....................................C=10, gamma=10; total time=   2.6s\n",
      "[CV] END ...................................C=100, gamma=0.1; total time=   0.8s\n",
      "[CV] END ....................................C=100, gamma=10; total time=   2.1s\n"
     ]
    }
   ],
   "source": [
    "#展示决策树和支持向量机算法的预测结果\n",
    "\n",
    "result = {'Decisiontree':[0.9786,0.9730,0.9369],'SVC':[0.9622,0.9210,0.9377]}\n",
    "pd.DataFrame(result,index = ['accuracy','recall','precision'])"
   ]
  },
  {
   "cell_type": "markdown",
   "id": "b66b7380",
   "metadata": {},
   "source": [
    "#### 项目总结"
   ]
  },
  {
   "cell_type": "markdown",
   "id": "e6c207b0",
   "metadata": {},
   "source": [
    "1.理解数据，理解数据集中每个特征的实际意义。\n",
    "2.探索性分析，理解影响因素与最终结果之间的关系，做到心中有数。此处定性的分析，也只能表达其相关性。\n",
    "3.建立决策树模型和支持向量机模型，其中支持向量机模型涉及到了参数优化。通过accuracy,recall,precision评估两个模型的效果。\n",
    "4.通过对比两个模型的效果，最终选择决策树算法。原因有两点，决策树算法简单，计算效率高，可解释性非常好。"
   ]
  },
  {
   "cell_type": "code",
   "execution_count": null,
   "id": "295a7805",
   "metadata": {},
   "outputs": [],
   "source": []
  }
 ],
 "metadata": {
  "kernelspec": {
   "display_name": "Python 3 (ipykernel)",
   "language": "python",
   "name": "python3"
  },
  "language_info": {
   "codemirror_mode": {
    "name": "ipython",
    "version": 3
   },
   "file_extension": ".py",
   "mimetype": "text/x-python",
   "name": "python",
   "nbconvert_exporter": "python",
   "pygments_lexer": "ipython3",
   "version": "3.11.0"
  }
 },
 "nbformat": 4,
 "nbformat_minor": 5
}
